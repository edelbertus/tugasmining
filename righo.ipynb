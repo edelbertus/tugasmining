{
 "cells": [
  {
   "cell_type": "code",
   "execution_count": 1,
   "id": "4247c5a2-5b3c-4cab-aeaf-16f2eb6e025f",
   "metadata": {},
   "outputs": [
    {
     "ename": "",
     "evalue": "",
     "output_type": "error",
     "traceback": [
      "\u001b[1;31mRunning cells with 'Python 3.11.3' requires the ipykernel package.\n",
      "\u001b[1;31mRun the following command to install 'ipykernel' into the Python environment. \n",
      "\u001b[1;31mCommand: 'c:/Users/EJ/AppData/Local/Programs/Python/Python311/python.exe -m pip install ipykernel -U --user --force-reinstall'"
     ]
    }
   ],
   "source": [
    "import numpy as np\n",
    "import pandas as pd\n",
    "from sklearn.model_selection import train_test_split\n",
    "from sklearn.naive_bayes import GaussianNB\n",
    "from sklearn.metrics import accuracy_score"
   ]
  },
  {
   "cell_type": "code",
   "execution_count": 3,
   "id": "0a10e602-1da3-4f24-861a-b1bf20be2432",
   "metadata": {},
   "outputs": [],
   "source": [
    "diabetes_dataset = pd.read_csv('diabetes.csv')"
   ]
  },
  {
   "cell_type": "code",
   "execution_count": null,
   "id": "12e8e575-ddc6-439f-8677-668a435c5d41",
   "metadata": {},
   "outputs": [],
   "source": [
    "diabetes_dataset.head()"
   ]
  },
  {
   "cell_type": "code",
   "execution_count": null,
   "id": "e80c4845-8e70-49b0-baa8-a29d287442be",
   "metadata": {},
   "outputs": [],
   "source": [
    "diabetes_dataset.shape"
   ]
  },
  {
   "cell_type": "code",
   "execution_count": null,
   "id": "99174856-4459-4513-9edd-0d9e4a4d3d2a",
   "metadata": {},
   "outputs": [],
   "source": [
    "diabetes_dataset['Outcome'].value_counts()"
   ]
  },
  {
   "cell_type": "code",
   "execution_count": 11,
   "id": "e820e0f4-7465-4e87-91b0-528854d1f640",
   "metadata": {},
   "outputs": [],
   "source": [
    "#memisahkan data dan label\n",
    "X = diabetes_dataset.drop(columns='Outcome', axis=1)\n",
    "Y = diabetes_dataset['Outcome']"
   ]
  },
  {
   "cell_type": "code",
   "execution_count": null,
   "id": "22b0bc99-3222-4d67-a3c4-8db1aed61bf7",
   "metadata": {},
   "outputs": [],
   "source": [
    "print(X)"
   ]
  },
  {
   "cell_type": "code",
   "execution_count": null,
   "id": "cfc3ab36-17c9-4c71-bc92-c2eb24f526e8",
   "metadata": {},
   "outputs": [],
   "source": [
    "print(Y)"
   ]
  },
  {
   "cell_type": "code",
   "execution_count": 17,
   "id": "b9130eae-6192-42a2-8b7f-e6269f7d31b1",
   "metadata": {},
   "outputs": [],
   "source": [
    "X_train, X_test, Y_train, Y_test = train_test_split(X, Y, test_size=0.5, random_state=0)"
   ]
  },
  {
   "cell_type": "code",
   "execution_count": null,
   "id": "face0cc7-09d0-49ca-9115-dd7c67dccba8",
   "metadata": {},
   "outputs": [],
   "source": [
    "print(X.shape, X_train.shape, X_test.shape)"
   ]
  },
  {
   "cell_type": "code",
   "execution_count": 21,
   "id": "d0e481ea-976f-42c3-a39e-edc5fcc15e3f",
   "metadata": {},
   "outputs": [],
   "source": [
    "classifier = GaussianNB()"
   ]
  },
  {
   "cell_type": "code",
   "execution_count": null,
   "id": "3592b37b-0e36-4ace-84de-fb723239fdd3",
   "metadata": {},
   "outputs": [],
   "source": [
    "classifier.fit(X_train, Y_train)\n",
    "\n",
    "\n"
   ]
  },
  {
   "cell_type": "code",
   "execution_count": 25,
   "id": "b5ec071c-be03-455c-84cd-32d4f0777e81",
   "metadata": {},
   "outputs": [],
   "source": [
    "X_train_prediction = classifier.predict(X_train)\n",
    "training_data_accuracy = accuracy_score(X_train_prediction, Y_train)"
   ]
  },
  {
   "cell_type": "code",
   "execution_count": null,
   "id": "81e8de65-efe8-4cc3-8d5f-e8f91c53e15a",
   "metadata": {},
   "outputs": [],
   "source": [
    "print('Akurasi Data Training Adalah', training_data_accuracy)"
   ]
  },
  {
   "cell_type": "code",
   "execution_count": 29,
   "id": "1ed245dc-ad10-4826-8666-b0fbe4c40d35",
   "metadata": {},
   "outputs": [],
   "source": [
    "X_test_prediction = classifier.predict(X_test)\n",
    "test_data_accuracy = accuracy_score(X_test_prediction, Y_test)"
   ]
  },
  {
   "cell_type": "code",
   "execution_count": null,
   "id": "1dbc7605-6ca6-42ca-abbe-8c986c803144",
   "metadata": {},
   "outputs": [],
   "source": [
    "print('Akurasi Data Testing Adalah', test_data_accuracy)"
   ]
  },
  {
   "cell_type": "code",
   "execution_count": null,
   "id": "4a98111e-e0c8-4b97-aca5-968fe95343b2",
   "metadata": {},
   "outputs": [],
   "source": [
    "input_data=(0,137,40,35,168,43.1,2.288,33)\n",
    "\n",
    "input_data_as_numpy_array = np.array(input_data)\n",
    "\n",
    "input_data_reshape = input_data_as_numpy_array.reshape(1, -1)\n",
    "\n",
    "std_data = input_data_reshape\n",
    "\n",
    "print(std_data)\n",
    "\n",
    "prediction = classifier.predict(std_data)\n",
    "print(prediction)\n",
    "\n",
    "if(prediction[0] == 0):\n",
    "    print('Pasien Tidak Terkena Diabetes')\n",
    "else :\n",
    "    print('Pasien Terkena Diabetes')"
   ]
  },
  {
   "cell_type": "code",
   "execution_count": 35,
   "id": "c3be5971-6429-4e24-b06b-2d3ab8f96097",
   "metadata": {},
   "outputs": [],
   "source": [
    "import pickle "
   ]
  },
  {
   "cell_type": "code",
   "execution_count": 37,
   "id": "9490cdb5-1b24-4030-82f8-daf2c2bde04a",
   "metadata": {},
   "outputs": [],
   "source": [
    "filename = 'diebetes_model_naive_bayes.sav'\n",
    "pickle.dump(classifier, open(filename, 'wb'))"
   ]
  },
  {
   "cell_type": "code",
   "execution_count": null,
   "id": "97062462-b50d-44ce-a43b-8ec342390843",
   "metadata": {},
   "outputs": [],
   "source": []
  }
 ],
 "metadata": {
  "kernelspec": {
   "display_name": "Python 3",
   "language": "python",
   "name": "python3"
  },
  "language_info": {
   "codemirror_mode": {
    "name": "ipython",
    "version": 3
   },
   "file_extension": ".py",
   "mimetype": "text/x-python",
   "name": "python",
   "nbconvert_exporter": "python",
   "pygments_lexer": "ipython3",
   "version": "3.11.3"
  }
 },
 "nbformat": 4,
 "nbformat_minor": 5
}
