{
 "cells": [
  {
   "cell_type": "code",
   "execution_count": 16,
   "metadata": {},
   "outputs": [
    {
     "ename": "SyntaxError",
     "evalue": "invalid syntax (2263171085.py, line 1)",
     "output_type": "error",
     "traceback": [
      "\u001b[1;36m  Cell \u001b[1;32mIn[16], line 1\u001b[1;36m\u001b[0m\n\u001b[1;33m    from PyQt5.QtWidgets import\u001b[0m\n\u001b[1;37m                                ^\u001b[0m\n\u001b[1;31mSyntaxError\u001b[0m\u001b[1;31m:\u001b[0m invalid syntax\n"
     ]
    }
   ],
   "source": [
    "from PyQt5.QtWidgets import *\n",
    "from PyQt5 import uic\n",
    "import pickle\n",
    "import numpy as np\n",
    "from sklearn.naive_bayes import GaussianNB\n",
    "from sklearn.metrics import accuracy_score\n",
    "\n",
    "with open('diebetes_model_naive_bayes.sav', 'rb') as r:\n",
    "    model = pickle.load(r)\n",
    "    \n",
    "def diabetes():\n",
    "    banyakMelahirkan = float(window.input_melahirkan.text())\n",
    "    kadarGlukosa = float(window.input_glukosa.text())\n",
    "    tekananDarah = float(window.input_darah.text())\n",
    "    ketebalanLipatanKulit = float(window.input_kulit.text())\n",
    "    kadarInsulin = float(window.input_insulin.text())\n",
    "    bmi = float(window.input_bmi.text())\n",
    "    derajatRiwayatDiabetes = float(window.input_riwayat.text())\n",
    "    umur = float(window.input_umur.text())\n",
    "    \n",
    "    dataPasien = np.array((banyakMelahirkan,kadarGlukosa,tekananDarah,ketebalanLipatanKulit,kadarInsulin,bmi,derajatRiwayatDiabetes,umur))\n",
    "    data = np.reshape(dataPasien, (1, -1))\n",
    "    \n",
    "    isDiabetes = model.predict(data)\n",
    "    \n",
    "    if(isDiabetes==1):\n",
    "        window.label_simpulan.setText('POSITIF DIABETES')\n",
    "    elif(isDiabetes==0):\n",
    "        window.label_simpulan.setText('NEGATIF DIABETES')\n",
    "        \n",
    "app = QApplication([])\n",
    "window = QMainWindow()\n",
    "uic.loadUi('diabetes.ui', window)\n",
    "window.setWindowTitle('Deteksi Diabetes')\n",
    "window.show()\n",
    "window.button_prediksi.clicked.connect(diabetes)\n",
    "app.exec_()"
   ]
  },
  {
   "cell_type": "code",
   "execution_count": null,
   "metadata": {},
   "outputs": [],
   "source": []
  },
  {
   "cell_type": "code",
   "execution_count": null,
   "metadata": {},
   "outputs": [],
   "source": []
  }
 ],
 "metadata": {
  "kernelspec": {
   "display_name": "Python 3 (ipykernel)",
   "language": "python",
   "name": "python3"
  },
  "language_info": {
   "codemirror_mode": {
    "name": "ipython",
    "version": 3
   },
   "file_extension": ".py",
   "mimetype": "text/x-python",
   "name": "python",
   "nbconvert_exporter": "python",
   "pygments_lexer": "ipython3",
   "version": "3.12.4"
  }
 },
 "nbformat": 4,
 "nbformat_minor": 4
}
