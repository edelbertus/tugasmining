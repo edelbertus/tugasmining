{
 "cells": [
  {
   "cell_type": "code",
   "execution_count": 7,
   "metadata": {},
   "outputs": [
    {
     "ename": "ModuleNotFoundError",
     "evalue": "No module named 'PyQt5'",
     "output_type": "error",
     "traceback": [
      "\u001b[1;31m---------------------------------------------------------------------------\u001b[0m",
      "\u001b[1;31mModuleNotFoundError\u001b[0m                       Traceback (most recent call last)",
      "Cell \u001b[1;32mIn[7], line 1\u001b[0m\n\u001b[1;32m----> 1\u001b[0m \u001b[38;5;28;01mfrom\u001b[39;00m \u001b[38;5;21;01mPyQt5\u001b[39;00m\u001b[38;5;21;01m.\u001b[39;00m\u001b[38;5;21;01mQtWidgets\u001b[39;00m \u001b[38;5;28;01mimport\u001b[39;00m \u001b[38;5;241m*\u001b[39m\n\u001b[0;32m      2\u001b[0m \u001b[38;5;28;01mfrom\u001b[39;00m \u001b[38;5;21;01mPyQt5\u001b[39;00m \u001b[38;5;28;01mimport\u001b[39;00m uic\n\u001b[0;32m      3\u001b[0m \u001b[38;5;28;01mimport\u001b[39;00m \u001b[38;5;21;01mpickle\u001b[39;00m\n",
      "\u001b[1;31mModuleNotFoundError\u001b[0m: No module named 'PyQt5'"
     ]
    }
   ],
   "source": [
    "from PyQt5.QtWidgets import *\n",
    "from PyQt5 import uic\n",
    "import pickle\n",
    "import numpy as np\n",
    "import pandas as pd\n",
    "from sklearn.model_selection import train_test_split\n",
    "from sklearn.naive_bayes import GaussianNB\n",
    "from sklearn.metrics import accuracy_score\n",
    "\n",
    "with open('diebetes_model_naive_bayes.sav', 'rb') as r:\n",
    "    model = pickle.load(r)\n",
    "    \n",
    "def diabetes():\n",
    "    banyakMelahirkan = float(window.input_melahirkan.text())\n",
    "    kadarGlukosa = float(window.input_glukosa.text())\n",
    "    tekananDarah = float(window.input_darah.text())\n",
    "    ketebalanLipatanKulit = float(window.input_kulit.text())\n",
    "    kadarInsulin = float(window.input_insulin.text())\n",
    "    bmi = float(window.input_bmi.text())\n",
    "    derajatRiwayatDiabetes = float(window.input_riwayat.text())\n",
    "    umur = float(window.input_umur.text())\n",
    "    \n",
    "    dataPasien = np.array((banyakMelahirkan,kadarGlukosa,tekananDarah,ketebalanLipatanKulit,kadarInsulin,bmi,derajatRiwayatDiabetes,umur))\n",
    "    data = np.reshape(dataPasien, (1, -1))\n",
    "    \n",
    "    isDiabetes = model.predict(data)\n",
    "    \n",
    "    if(isDiabetes==1):\n",
    "        window.label_simpulan.setText('POSITIF DIABETES')\n",
    "    elif(isDiabetes==0):\n",
    "        window.label_simpulan.setText('NEGATIF DIABETES')\n",
    "        \n",
    "app = QApplication([])\n",
    "window = QMainWindow()\n",
    "uic.loadUi('diabetes.ui', window)\n",
    "window.setWindowTitle('Deteksi Diabetes')\n",
    "window.show()\n",
    "window.button_prediksi.clicked.connect(diabetes)\n",
    "app.exec_()"
   ]
  }
 ],
 "metadata": {
  "kernelspec": {
   "display_name": "Python 3",
   "language": "python",
   "name": "python3"
  },
  "language_info": {
   "codemirror_mode": {
    "name": "ipython",
    "version": 3
   },
   "file_extension": ".py",
   "mimetype": "text/x-python",
   "name": "python",
   "nbconvert_exporter": "python",
   "pygments_lexer": "ipython3",
   "version": "3.11.3"
  }
 },
 "nbformat": 4,
 "nbformat_minor": 4
}
