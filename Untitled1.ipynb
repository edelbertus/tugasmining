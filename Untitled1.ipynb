{
 "cells": [
  {
   "cell_type": "code",
   "execution_count": 2,
   "id": "f4b08f60-4395-4ff1-ae82-95bb914e5570",
   "metadata": {},
   "outputs": [
    {
     "ename": "FileNotFoundError",
     "evalue": "[Errno 2] No such file or directory: 'diabetes.ui'",
     "output_type": "error",
     "traceback": [
      "\u001b[1;31m---------------------------------------------------------------------------\u001b[0m",
      "\u001b[1;31mFileNotFoundError\u001b[0m                         Traceback (most recent call last)",
      "Cell \u001b[1;32mIn[2], line 33\u001b[0m\n\u001b[0;32m     31\u001b[0m app \u001b[38;5;241m=\u001b[39m QApplication([])\n\u001b[0;32m     32\u001b[0m window \u001b[38;5;241m=\u001b[39m QMainWindow()\n\u001b[1;32m---> 33\u001b[0m uic\u001b[38;5;241m.\u001b[39mloadUi(\u001b[38;5;124m'\u001b[39m\u001b[38;5;124mdiabetes.ui\u001b[39m\u001b[38;5;124m'\u001b[39m, window)\n\u001b[0;32m     34\u001b[0m window\u001b[38;5;241m.\u001b[39msetWindowTitle(\u001b[38;5;124m'\u001b[39m\u001b[38;5;124mDeteksi Diabetes\u001b[39m\u001b[38;5;124m'\u001b[39m)\n\u001b[0;32m     35\u001b[0m window\u001b[38;5;241m.\u001b[39mshow()\n",
      "File \u001b[1;32mC:\\ProgramData\\anaconda3\\Lib\\site-packages\\PyQt5\\uic\\__init__.py:241\u001b[0m, in \u001b[0;36mloadUi\u001b[1;34m(uifile, baseinstance, package, resource_suffix)\u001b[0m\n\u001b[0;32m    222\u001b[0m \u001b[38;5;250m\u001b[39m\u001b[38;5;124;03m\"\"\"loadUi(uifile, baseinstance=None, package='') -> widget\u001b[39;00m\n\u001b[0;32m    223\u001b[0m \n\u001b[0;32m    224\u001b[0m \u001b[38;5;124;03mLoad a Qt Designer .ui file and return an instance of the user interface.\u001b[39;00m\n\u001b[1;32m   (...)\u001b[0m\n\u001b[0;32m    236\u001b[0m \u001b[38;5;124;03mmodule is foo_rc.\u001b[39;00m\n\u001b[0;32m    237\u001b[0m \u001b[38;5;124;03m\"\"\"\u001b[39;00m\n\u001b[0;32m    239\u001b[0m \u001b[38;5;28;01mfrom\u001b[39;00m \u001b[38;5;21;01m.\u001b[39;00m\u001b[38;5;21;01mLoader\u001b[39;00m\u001b[38;5;21;01m.\u001b[39;00m\u001b[38;5;21;01mloader\u001b[39;00m \u001b[38;5;28;01mimport\u001b[39;00m DynamicUILoader\n\u001b[1;32m--> 241\u001b[0m \u001b[38;5;28;01mreturn\u001b[39;00m DynamicUILoader(package)\u001b[38;5;241m.\u001b[39mloadUi(uifile, baseinstance, resource_suffix)\n",
      "File \u001b[1;32mC:\\ProgramData\\anaconda3\\Lib\\site-packages\\PyQt5\\uic\\Loader\\loader.py:66\u001b[0m, in \u001b[0;36mDynamicUILoader.loadUi\u001b[1;34m(self, filename, toplevelInst, resource_suffix)\u001b[0m\n\u001b[0;32m     63\u001b[0m \u001b[38;5;28;01mdef\u001b[39;00m \u001b[38;5;21mloadUi\u001b[39m(\u001b[38;5;28mself\u001b[39m, filename, toplevelInst, resource_suffix):\n\u001b[0;32m     64\u001b[0m     \u001b[38;5;28mself\u001b[39m\u001b[38;5;241m.\u001b[39mtoplevelInst \u001b[38;5;241m=\u001b[39m toplevelInst\n\u001b[1;32m---> 66\u001b[0m     \u001b[38;5;28;01mreturn\u001b[39;00m \u001b[38;5;28mself\u001b[39m\u001b[38;5;241m.\u001b[39mparse(filename, resource_suffix)\n",
      "File \u001b[1;32mC:\\ProgramData\\anaconda3\\Lib\\site-packages\\PyQt5\\uic\\uiparser.py:1020\u001b[0m, in \u001b[0;36mUIParser.parse\u001b[1;34m(self, filename, resource_suffix)\u001b[0m\n\u001b[0;32m   1006\u001b[0m \u001b[38;5;66;03m# The order in which the different branches are handled is important.\u001b[39;00m\n\u001b[0;32m   1007\u001b[0m \u001b[38;5;66;03m# The widget tree handler relies on all custom widgets being known, and\u001b[39;00m\n\u001b[0;32m   1008\u001b[0m \u001b[38;5;66;03m# in order to create the connections, all widgets have to be populated.\u001b[39;00m\n\u001b[0;32m   1009\u001b[0m branchHandlers \u001b[38;5;241m=\u001b[39m (\n\u001b[0;32m   1010\u001b[0m     (\u001b[38;5;124m\"\u001b[39m\u001b[38;5;124mlayoutdefault\u001b[39m\u001b[38;5;124m\"\u001b[39m, \u001b[38;5;28mself\u001b[39m\u001b[38;5;241m.\u001b[39mreadDefaults),\n\u001b[0;32m   1011\u001b[0m     (\u001b[38;5;124m\"\u001b[39m\u001b[38;5;124mclass\u001b[39m\u001b[38;5;124m\"\u001b[39m,         \u001b[38;5;28mself\u001b[39m\u001b[38;5;241m.\u001b[39mclassname),\n\u001b[1;32m   (...)\u001b[0m\n\u001b[0;32m   1017\u001b[0m     (\u001b[38;5;124m\"\u001b[39m\u001b[38;5;124mresources\u001b[39m\u001b[38;5;124m\"\u001b[39m,     \u001b[38;5;28mself\u001b[39m\u001b[38;5;241m.\u001b[39mreadResources),\n\u001b[0;32m   1018\u001b[0m )\n\u001b[1;32m-> 1020\u001b[0m document \u001b[38;5;241m=\u001b[39m parse(filename)\n\u001b[0;32m   1021\u001b[0m root \u001b[38;5;241m=\u001b[39m document\u001b[38;5;241m.\u001b[39mgetroot()\n\u001b[0;32m   1023\u001b[0m \u001b[38;5;28;01mif\u001b[39;00m root\u001b[38;5;241m.\u001b[39mtag \u001b[38;5;241m!=\u001b[39m \u001b[38;5;124m'\u001b[39m\u001b[38;5;124mui\u001b[39m\u001b[38;5;124m'\u001b[39m:\n",
      "File \u001b[1;32mC:\\ProgramData\\anaconda3\\Lib\\xml\\etree\\ElementTree.py:1204\u001b[0m, in \u001b[0;36mparse\u001b[1;34m(source, parser)\u001b[0m\n\u001b[0;32m   1195\u001b[0m \u001b[38;5;250m\u001b[39m\u001b[38;5;124;03m\"\"\"Parse XML document into element tree.\u001b[39;00m\n\u001b[0;32m   1196\u001b[0m \n\u001b[0;32m   1197\u001b[0m \u001b[38;5;124;03m*source* is a filename or file object containing XML data,\u001b[39;00m\n\u001b[1;32m   (...)\u001b[0m\n\u001b[0;32m   1201\u001b[0m \n\u001b[0;32m   1202\u001b[0m \u001b[38;5;124;03m\"\"\"\u001b[39;00m\n\u001b[0;32m   1203\u001b[0m tree \u001b[38;5;241m=\u001b[39m ElementTree()\n\u001b[1;32m-> 1204\u001b[0m tree\u001b[38;5;241m.\u001b[39mparse(source, parser)\n\u001b[0;32m   1205\u001b[0m \u001b[38;5;28;01mreturn\u001b[39;00m tree\n",
      "File \u001b[1;32mC:\\ProgramData\\anaconda3\\Lib\\xml\\etree\\ElementTree.py:558\u001b[0m, in \u001b[0;36mElementTree.parse\u001b[1;34m(self, source, parser)\u001b[0m\n\u001b[0;32m    556\u001b[0m close_source \u001b[38;5;241m=\u001b[39m \u001b[38;5;28;01mFalse\u001b[39;00m\n\u001b[0;32m    557\u001b[0m \u001b[38;5;28;01mif\u001b[39;00m \u001b[38;5;129;01mnot\u001b[39;00m \u001b[38;5;28mhasattr\u001b[39m(source, \u001b[38;5;124m\"\u001b[39m\u001b[38;5;124mread\u001b[39m\u001b[38;5;124m\"\u001b[39m):\n\u001b[1;32m--> 558\u001b[0m     source \u001b[38;5;241m=\u001b[39m \u001b[38;5;28mopen\u001b[39m(source, \u001b[38;5;124m\"\u001b[39m\u001b[38;5;124mrb\u001b[39m\u001b[38;5;124m\"\u001b[39m)\n\u001b[0;32m    559\u001b[0m     close_source \u001b[38;5;241m=\u001b[39m \u001b[38;5;28;01mTrue\u001b[39;00m\n\u001b[0;32m    560\u001b[0m \u001b[38;5;28;01mtry\u001b[39;00m:\n",
      "\u001b[1;31mFileNotFoundError\u001b[0m: [Errno 2] No such file or directory: 'diabetes.ui'"
     ]
    }
   ],
   "source": [
    "from PyQt5.QtWidgets import *\n",
    "from PyQt5 import uic\n",
    "import pickle\n",
    "import numpy as np\n",
    "from sklearn.naive_bayes import GaussianNB\n",
    "from sklearn.metrics import accuracy_score\n",
    "\n",
    "with open('diebetes_model_naive_bayes.sav', 'rb') as r:\n",
    "    model = pickle.load(r)\n",
    "    \n",
    "def diabetes():\n",
    "    banyakMelahirkan = float(window.input_melahirkan.text())\n",
    "    kadarGlukosa = float(window.input_glukosa.text())\n",
    "    tekananDarah = float(window.input_darah.text())\n",
    "    ketebalanLipatanKulit = float(window.input_kulit.text())\n",
    "    kadarInsulin = float(window.input_insulin.text())\n",
    "    bmi = float(window.input_bmi.text())\n",
    "    derajatRiwayatDiabetes = float(window.input_riwayat.text())\n",
    "    umur = float(window.input_umur.text())\n",
    "    \n",
    "    dataPasien = np.array((banyakMelahirkan,kadarGlukosa,tekananDarah,ketebalanLipatanKulit,kadarInsulin,bmi,derajatRiwayatDiabetes,umur))\n",
    "    data = np.reshape(dataPasien, (1, -1))\n",
    "    \n",
    "    isDiabetes = model.predict(data)\n",
    "    \n",
    "    if(isDiabetes==1):\n",
    "        window.label_simpulan.setText('POSITIF DIABETES')\n",
    "    elif(isDiabetes==0):\n",
    "        window.label_simpulan.setText('NEGATIF DIABETES')\n",
    "        \n",
    "app = QApplication([])\n",
    "window = QMainWindow()\n",
    "uic.loadUi('diabetes.ui', window)\n",
    "window.setWindowTitle('Deteksi Diabetes')\n",
    "window.show()\n",
    "window.button_prediksi.clicked.connect(diabetes)\n",
    "app.exec_()"
   ]
  },
  {
   "cell_type": "code",
   "execution_count": null,
   "id": "4afd5502-58e5-4a4c-bef2-19f158d44417",
   "metadata": {},
   "outputs": [],
   "source": []
  }
 ],
 "metadata": {
  "kernelspec": {
   "display_name": "Python 3 (ipykernel)",
   "language": "python",
   "name": "python3"
  },
  "language_info": {
   "codemirror_mode": {
    "name": "ipython",
    "version": 3
   },
   "file_extension": ".py",
   "mimetype": "text/x-python",
   "name": "python",
   "nbconvert_exporter": "python",
   "pygments_lexer": "ipython3",
   "version": "3.12.4"
  }
 },
 "nbformat": 4,
 "nbformat_minor": 5
}
